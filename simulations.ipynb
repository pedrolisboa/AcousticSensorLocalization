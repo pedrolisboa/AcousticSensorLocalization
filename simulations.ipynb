{
 "cells": [
  {
   "cell_type": "markdown",
   "metadata": {},
   "source": [
    "## Closed-Form Solutions for Robust Acoustic Sensor Localization\n",
    "##### Bruno Granato\n",
    "##### Carolina Bez\n",
    "##### Eduardo Alves\n",
    "##### Fabiana Fonseca\n",
    "##### Pedro Lisboa\n",
    "\n",
    "##### ***Processamento de Sinais de Áudio - 2019.1***\n",
    "##### ***Escola Politécnica - Universidade Federal do Rio de Janeiro***\n",
    "\n",
    "---\n",
    "\n",
    "#### Replicação dos resultados encontrados nas simulações de: \n",
    "#### Haddad, Diego & Nunes, Leonardo & Martins, Wallace & Biscainho, Luiz & Lee, Bowon. (2013). Closed-Form Solutions for Robust Acoustic Sensor Localization. \n"
   ]
  },
  {
   "cell_type": "markdown",
   "metadata": {},
   "source": [
    "### Sumário\n",
    "___\n",
    "\n",
    "- [Config](#config)\n",
    "- [Métodos TOF](#tof)\n",
    "    - [T](#t)\n",
    "    - [Ta](#ta)\n",
    "    - [Tab](#tab)\n",
    "- [Métodos TDOF](#tdof)\n",
    "- [Simulação I](#sim1)\n",
    "- [Simulação II](#sim2)\n",
    "- [Simulação III](#sim3)\n",
    "- [Simulação IV](#sim4)"
   ]
  },
  {
   "cell_type": "code",
   "execution_count": 2,
   "metadata": {},
   "outputs": [],
   "source": [
    "import numpy as np\n",
    "import matplotlib.pyplot as plt\n",
    "import pandas as pd\n",
    "import matplotlib.pyplot as plt\n",
    "from mpl_toolkits.mplot3d import Axes3D\n",
    "\n",
    "%matplotlib inline"
   ]
  },
  {
   "cell_type": "markdown",
   "metadata": {},
   "source": [
    "### Config <a name=config></a>"
   ]
  },
  {
   "cell_type": "code",
   "execution_count": 3,
   "metadata": {},
   "outputs": [],
   "source": [
    "space_dim = 3\n",
    "n_loudspeakers = 12\n",
    "n_microphones = 1000\n",
    "room_dim = np.array([5.2, 7.5, 2.6])\n",
    "c = 340 # speed of sound\n",
    "\n",
    "ls_pos = room_dim * np.random.rand(n_loudspeakers, space_dim)\n",
    "mp_pos = room_dim * np.random.rand(n_microphones, space_dim)"
   ]
  },
  {
   "cell_type": "markdown",
   "metadata": {},
   "source": [
    "## Métodos TOF <a name=\"tof\"></a>"
   ]
  },
  {
   "cell_type": "code",
   "execution_count": 28,
   "metadata": {},
   "outputs": [],
   "source": [
    "def solve(H,g):\n",
    "    H_t = np.transpose(H)\n",
    "    H_inv = np.linalg.inv(H_t @ H)\n",
    "\n",
    "    sol = np.dot(H_inv @ H_t, g) \n",
    "    return sol"
   ]
  },
  {
   "cell_type": "markdown",
   "metadata": {},
   "source": [
    "### T solution <a name=t></a>"
   ]
  },
  {
   "cell_type": "markdown",
   "metadata": {},
   "source": [
    "\\begin{equation*}\n",
    "e_{(T)} =  \\begin{bmatrix}\n",
    "1 & -2s_1^{T} \\\\\n",
    "\\vdots &\\vdots \\\\\n",
    "1 & -2s_1^{T}\n",
    "\\end{bmatrix}\n",
    "\\begin{bmatrix}\n",
    " ||\\textbf{m}||^2 \\\\\n",
    " \\textbf{m} \n",
    "\\end{bmatrix} - \n",
    "\\begin{bmatrix}\n",
    "-||s_1||^2 + c^2\\hat{t}_1^2 \\\\\n",
    "\\vdots  \\\\\n",
    "-||s_S||^2 + c^2\\hat{t}_S^2\n",
    "\\end{bmatrix}\n",
    "\\end{equation*}"
   ]
  },
  {
   "cell_type": "code",
   "execution_count": 30,
   "metadata": {},
   "outputs": [],
   "source": [
    "def tof_t(t_hat, ls_pos):\n",
    "    ## generate matrix H\n",
    "    n_loudspeakers = ls_pos.shape[0]\n",
    "    H = np.concatenate([np.ones((n_loudspeakers, 1), dtype=np.float64),\n",
    "                        -2*ls_pos], axis=1)\n",
    "    g = -np.linalg.norm(ls_pos, ord=2, axis=1)**2 + (c**2)*t_hat**2\n",
    "    \n",
    "    return solve(H,g)"
   ]
  },
  {
   "cell_type": "markdown",
   "metadata": {},
   "source": [
    "### Ta solution <a name=ta></a>"
   ]
  },
  {
   "cell_type": "markdown",
   "metadata": {},
   "source": [
    "\\begin{equation*}\n",
    "e_{(T)} =  \\begin{bmatrix}\n",
    "1 & -2s_1^{T} & \\hat{t}_1^2\\\\\n",
    "\\vdots &\\vdots &\\vdots \\\\\n",
    "1 & -2s_1^{T} & \\hat{t}_S^2\n",
    "\\end{bmatrix}\n",
    "\\begin{bmatrix}\n",
    " ||\\textbf{m}||^2 \\\\\n",
    " \\textbf{m} \\\\\n",
    " a^2\n",
    "\\end{bmatrix} - \n",
    "\\begin{bmatrix}\n",
    "-||s_1||^2 \\\\\n",
    "\\vdots  \\\\\n",
    "-||s_S||^2\n",
    "\\end{bmatrix}\n",
    "\\end{equation*}"
   ]
  },
  {
   "cell_type": "code",
   "execution_count": 6,
   "metadata": {},
   "outputs": [],
   "source": [
    "def tof_ta(t_hat, ls_pos):\n",
    "    ## generate matrix H\n",
    "    n_loudspeakers = ls_pos.shape[0]\n",
    "    t_hat = t_hat.reshape((t_hat.shape[0], 1))\n",
    "    H = np.concatenate([np.ones((n_loudspeakers, 1), dtype=np.float64),\n",
    "                        -2*ls_pos, -(c**2)*t_hat**2], axis=1)\n",
    "    g = -np.linalg.norm(ls_pos, ord=2, axis=1)**2\n",
    "    return solve(H,g)"
   ]
  },
  {
   "cell_type": "markdown",
   "metadata": {},
   "source": [
    "### Simulação I <a name=sim1></a>"
   ]
  },
  {
   "cell_type": "code",
   "execution_count": 33,
   "metadata": {},
   "outputs": [],
   "source": [
    "def run_simulation_one(mp_pos, ls_pos, scale):\n",
    "    # distance between source and microphone \n",
    "    distance = np.apply_along_axis(lambda s: mp_pos - s,axis=1, arr=ls_pos) \n",
    "    t_hat_array = np.linalg.norm(distance, ord=2, axis=2) / c\n",
    "    noise_array = np.random.normal(loc=0, scale=scale, size=(n_loudspeakers,n_microphones))\n",
    "    t_hat_array += noise_array\n",
    "    solT = np.apply_along_axis(lambda t_hat: tof_t(t_hat, ls_pos),\n",
    "                              axis=0, arr=t_hat_array)\n",
    "    solTa = np.apply_along_axis(lambda t_hat: tof_ta(t_hat, ls_pos),\n",
    "                              axis=0, arr=t_hat_array)\n",
    "    return {'T' : solT[0,:], \n",
    "            'Ta': solTa[0,:]}\n",
    "\n",
    "std_range_cm = np.arange(0,6)\n",
    "std_range = std_range_cm / (c*100)\n",
    "results = {scale:run_simulation_one(mp_pos, ls_pos, scale) \n",
    "                       for scale in std_range}\n",
    "\n",
    "# Flattening results dictionary for multiindex parsing on pandas\n",
    "results = {(method, scale) : value   \n",
    "           for scale, res in results.items()\n",
    "           for method, value in res.items()}\n",
    "results\n",
    "results = pd.DataFrame(results)"
   ]
  },
  {
   "cell_type": "code",
   "execution_count": 25,
   "metadata": {},
   "outputs": [
    {
     "data": {
      "text/plain": [
       "T   0.000000    5.770728e-14\n",
       "    0.000029    5.542726e-02\n",
       "    0.000059    1.144764e-01\n",
       "    0.000088    1.779802e-01\n",
       "    0.000118    2.343198e-01\n",
       "    0.000147    2.889972e-01\n",
       "Ta  0.000000    5.967377e-13\n",
       "    0.000029    8.383153e-02\n",
       "    0.000059    1.638805e-01\n",
       "    0.000088    2.430387e-01\n",
       "    0.000118    3.351062e-01\n",
       "    0.000147    4.071306e-01\n",
       "dtype: float64"
      ]
     },
     "execution_count": 25,
     "metadata": {},
     "output_type": "execute_result"
    }
   ],
   "source": [
    "m = (np.linalg.norm(mp_pos, ord=2, axis=1)**2)\n",
    "results.groupby(level=0, axis=1).apply(lambda g: g.sub(m, axis=0).abs()).mean()\n"
   ]
  },
  {
   "cell_type": "code",
   "execution_count": 430,
   "metadata": {},
   "outputs": [
    {
     "data": {
      "text/plain": [
       "0    1.779299e-14\n",
       "1    6.311449e-02\n",
       "2    1.157584e-01\n",
       "3    1.779312e-01\n",
       "4    2.546909e-01\n",
       "5    3.049245e-01\n",
       "dtype: float64"
      ]
     },
     "execution_count": 430,
     "metadata": {},
     "output_type": "execute_result"
    }
   ],
   "source": [
    "m = (np.linalg.norm(mp_pos, ord=2, axis=1)**2)\n",
    "results.sub(m,axis=0).abs().mean()\n",
    "# ax = (100*results.sub(m,axis=0).abs().mean()).plot(linestyle = '--', marker='o')\n",
    "# ax.set_ylabel('Mean Error (cm)');\n",
    "# ax.set_xlabel('Noise Standard Deviation (cm)');"
   ]
  },
  {
   "cell_type": "code",
   "execution_count": 238,
   "metadata": {},
   "outputs": [
    {
     "name": "stdout",
     "output_type": "stream",
     "text": [
      "M [2.96524876 2.90915544 2.31004747]\n"
     ]
    },
    {
     "data": {
      "text/plain": [
       "array([22.59220484,  2.96524876,  2.90915544,  2.31004747])"
      ]
     },
     "execution_count": 238,
     "metadata": {},
     "output_type": "execute_result"
    }
   ],
   "source": [
    "n_loudspeakers = ls_pos.shape[0]\n",
    "t_hat = np.linalg.norm((mp_pos[0,:] - ls_pos), ord=2, axis=1) / c\n",
    "print('M ' + str(mp_pos[0,:]))\n",
    "# print('lspos ' + str(ls_pos))\n",
    "simple_tof(t_hat, ls_pos)[1:]\n",
    "# H = np.concatenate([np.ones((n_loudspeakers, 1), dtype=np.float64),\n",
    "#                     ls_pos], axis=1)\n",
    "# g = -np.linalg.norm(ls_pos, ord=2, axis=1)**2 + (c**2)*t_hat**2\n",
    "# f = (c**2)*(t_hat**2)\n",
    "# #     print(g)\n",
    "# #     print(f.shape)\n",
    "# #     print(f.min())\n",
    "# print(f.max())\n",
    "# H_t = np.transpose(H)\n",
    "# H_inv = np.linalg.inv(H_t @ H)\n",
    "\n",
    "# sol = np.dot(H_inv @ H_t, g) \n"
   ]
  },
  {
   "cell_type": "code",
   "execution_count": null,
   "metadata": {},
   "outputs": [],
   "source": []
  }
 ],
 "metadata": {
  "kernelspec": {
   "display_name": "radix",
   "language": "python",
   "name": "radix"
  },
  "language_info": {
   "codemirror_mode": {
    "name": "ipython",
    "version": 3
   },
   "file_extension": ".py",
   "mimetype": "text/x-python",
   "name": "python",
   "nbconvert_exporter": "python",
   "pygments_lexer": "ipython3",
   "version": "3.5.2"
  }
 },
 "nbformat": 4,
 "nbformat_minor": 2
}
