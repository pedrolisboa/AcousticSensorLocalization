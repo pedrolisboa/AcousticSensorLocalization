{
 "cells": [
  {
   "cell_type": "markdown",
   "metadata": {},
   "source": [
    "## Closed-Form Solutions for Robust Acoustic Sensor Localization\n",
    "##### Bruno Granato\n",
    "##### Carolina Bez\n",
    "##### Eduardo Alves\n",
    "##### Fabiana Fonseca\n",
    "##### Pedro Lisboa\n",
    "\n",
    "##### ***Processamento de Sinais de Áudio - 2019.1***\n",
    "##### ***Escola Politécnica - Universidade Federal do Rio de Janeiro***\n",
    "\n",
    "---\n",
    "\n",
    "#### Replicação dos resultados encontrados nas simulações de: \n",
    "#### Haddad, Diego & Nunes, Leonardo & Martins, Wallace & Biscainho, Luiz & Lee, Bowon. (2013). Closed-Form Solutions for Robust Acoustic Sensor Localization. \n"
   ]
  },
  {
   "cell_type": "markdown",
   "metadata": {},
   "source": [
    "### Sumário\n",
    "___\n",
    "\n",
    "- [Config](#config)\n",
    "- [Métodos TOF](#tof)\n",
    "    - [T](#t)\n",
    "    - [Ta](#ta)\n",
    "    - [Tab](#tab)\n",
    "- [Métodos TDOF](#tdof)\n",
    "- [Simulação I](#sim1)\n",
    "- [Simulação II](#sim2)\n",
    "- [Simulação III](#sim3)\n",
    "- [Simulação IV](#sim4)"
   ]
  },
  {
   "cell_type": "code",
   "execution_count": 143,
   "metadata": {},
   "outputs": [],
   "source": [
    "import numpy as np\n",
    "import matplotlib.pyplot as plt\n",
    "import pandas as pd\n",
    "import copy\n",
    "import os\n",
    "import joblib as jbl\n",
    "import seaborn as sns\n",
    "from mpl_toolkits.mplot3d import Axes3D\n",
    "\n",
    "from functions import get_error_magnitude\n",
    "\n",
    "sns.set_style('whitegrid')\n",
    "%matplotlib inline"
   ]
  },
  {
   "cell_type": "markdown",
   "metadata": {},
   "source": [
    "### Config <a name=config></a>"
   ]
  },
  {
   "cell_type": "code",
   "execution_count": 303,
   "metadata": {},
   "outputs": [],
   "source": [
    "space_dim = 3\n",
    "n_loudspeakers = 12\n",
    "n_microphones = 1000\n",
    "room_dim = np.array([5.2, 7.5, 2.6])\n",
    "c = 340 # speed of sound\n",
    "sensor_file = 'sensor_positions.jbl'\n",
    "source_file = 'source_positions.jbl'\n",
    "\n",
    "np.random.seed(255) # for reproducibility\n",
    "ls_pos = room_dim * np.random.rand(n_loudspeakers, space_dim)\n",
    "mp_pos = room_dim * np.random.rand(n_microphones, space_dim)"
   ]
  },
  {
   "cell_type": "markdown",
   "metadata": {},
   "source": [
    "## Métodos TOF <a name=\"tof\"></a>"
   ]
  },
  {
   "cell_type": "code",
   "execution_count": 304,
   "metadata": {},
   "outputs": [],
   "source": [
    "def solve(H,g):\n",
    "    H_t = np.transpose(H)\n",
    "    H_inv = np.linalg.inv(H_t @ H)\n",
    "\n",
    "    sol = np.dot(H_inv @ H_t, g) \n",
    "    return sol"
   ]
  },
  {
   "cell_type": "markdown",
   "metadata": {},
   "source": [
    "### T solution <a name=t></a>"
   ]
  },
  {
   "cell_type": "markdown",
   "metadata": {},
   "source": [
    "\\begin{equation*}\n",
    "e_{(T)} =  \\begin{bmatrix}\n",
    "1 & -2s_1^{T} \\\\\n",
    "\\vdots &\\vdots \\\\\n",
    "1 & -2s_1^{T}\n",
    "\\end{bmatrix}\n",
    "\\begin{bmatrix}\n",
    " ||\\textbf{m}||^2 \\\\\n",
    " \\textbf{m} \n",
    "\\end{bmatrix} - \n",
    "\\begin{bmatrix}\n",
    "-||s_1||^2 + c^2\\hat{t}_1^2 \\\\\n",
    "\\vdots  \\\\\n",
    "-||s_S||^2 + c^2\\hat{t}_S^2\n",
    "\\end{bmatrix}\n",
    "\\end{equation*}"
   ]
  },
  {
   "cell_type": "code",
   "execution_count": 278,
   "metadata": {},
   "outputs": [],
   "source": [
    "def tof_t(t_hat, ls_pos):\n",
    "    ## generate matrix H\n",
    "    n_loudspeakers = ls_pos.shape[0]\n",
    "    H = np.concatenate([np.ones((n_loudspeakers, 1), dtype=np.float64),\n",
    "                        -2*ls_pos], axis=1)\n",
    "    g = -np.linalg.norm(ls_pos, ord=2, axis=1)**2 + (c**2)*t_hat**2\n",
    "    \n",
    "    return solve(H,g)"
   ]
  },
  {
   "cell_type": "markdown",
   "metadata": {},
   "source": [
    "### Ta solution <a name=ta></a>"
   ]
  },
  {
   "cell_type": "markdown",
   "metadata": {},
   "source": [
    "\\begin{equation*}\n",
    "e_{(T)} =  \\begin{bmatrix}\n",
    "1 & -2s_1^{T} & \\hat{t}_1^2\\\\\n",
    "\\vdots &\\vdots &\\vdots \\\\\n",
    "1 & -2s_1^{T} & \\hat{t}_S^2\n",
    "\\end{bmatrix}\n",
    "\\begin{bmatrix}\n",
    " ||\\textbf{m}||^2 \\\\\n",
    " \\textbf{m} \\\\\n",
    " a^2\n",
    "\\end{bmatrix} - \n",
    "\\begin{bmatrix}\n",
    "-||s_1||^2 \\\\\n",
    "\\vdots  \\\\\n",
    "-||s_S||^2\n",
    "\\end{bmatrix}\n",
    "\\end{equation*}"
   ]
  },
  {
   "cell_type": "code",
   "execution_count": 279,
   "metadata": {},
   "outputs": [],
   "source": [
    "def tof_ta(t_hat, ls_pos):\n",
    "    ## generate matrix H\n",
    "    n_loudspeakers = ls_pos.shape[0]\n",
    "    t_hat = t_hat.reshape((t_hat.shape[0], 1))\n",
    "    H = np.concatenate([np.ones((n_loudspeakers, 1), dtype=np.float64),\n",
    "                        -2*ls_pos, -t_hat**2], axis=1)\n",
    "    g = -np.linalg.norm(ls_pos, ord=2, axis=1)**2\n",
    "    return solve(H,g)"
   ]
  },
  {
   "cell_type": "markdown",
   "metadata": {},
   "source": [
    "### Tab solution <a name=ta></a>"
   ]
  },
  {
   "cell_type": "markdown",
   "metadata": {},
   "source": [
    "\\begin{equation*}\n",
    "e_{(T)} =  \\begin{bmatrix}\n",
    "1 & -2s_1^{T} & \\hat{t}_1^2 & -2\\hat{t}_1\\\\\n",
    "\\vdots &\\vdots &\\vdots &\\vdots \\\\\n",
    "1 & -2s_1^{T} & \\hat{t}_S^2 & -2\\hat{t}_S\n",
    "\\end{bmatrix}\n",
    "\\begin{bmatrix}\n",
    " ||\\textbf{m}||^2 \\\\\n",
    " \\textbf{m} \\\\\n",
    " a^2 \\\\\n",
    " ab\n",
    "\\end{bmatrix} - \n",
    "\\begin{bmatrix}\n",
    "-||s_1||^2 \\\\\n",
    "\\vdots  \\\\\n",
    "-||s_S||^2\n",
    "\\end{bmatrix}\n",
    "\\end{equation*}"
   ]
  },
  {
   "cell_type": "code",
   "execution_count": 280,
   "metadata": {},
   "outputs": [],
   "source": [
    "def tof_tab(t_hat, ls_pos):\n",
    "    ## generate matrix H\n",
    "    n_loudspeakers = ls_pos.shape[0]\n",
    "    t_hat = t_hat.reshape((t_hat.shape[0], 1))\n",
    "    H = np.concatenate([np.ones((n_loudspeakers, 1), dtype=np.float64),\n",
    "                        -2*ls_pos, -(c**2)*t_hat**2, -2*t_hat], axis=1)\n",
    "    g = -np.linalg.norm(ls_pos, ord=2, axis=1)**2\n",
    "    return solve(H,g)"
   ]
  },
  {
   "cell_type": "markdown",
   "metadata": {},
   "source": [
    "### Simulação I <a name=sim1></a>"
   ]
  },
  {
   "cell_type": "code",
   "execution_count": 300,
   "metadata": {},
   "outputs": [],
   "source": [
    "def run_simulation_one(mp_pos, ls_pos, scale, c):\n",
    "    # distance between source and microphone \n",
    "    distance = np.apply_along_axis(lambda s: mp_pos - s,axis=1, arr=ls_pos) \n",
    "    t_hat_array = np.linalg.norm(distance, ord=2, axis=2) / c\n",
    "    noise_array = np.random.normal(loc=0, scale=scale, size=(n_loudspeakers,n_microphones))\n",
    "    t_hat_array += noise_array\n",
    "    solT = np.apply_along_axis(lambda t_hat: tof_t(t_hat, ls_pos),\n",
    "                              axis=0, arr=t_hat_array)\n",
    "    solTa = np.apply_along_axis(lambda t_hat: tof_ta(t_hat, ls_pos),\n",
    "                              axis=0, arr=t_hat_array)\n",
    "    solTab = np.apply_along_axis(lambda t_hat: tof_tab(t_hat, ls_pos),\n",
    "                              axis=0, arr=t_hat_array)\n",
    "    \n",
    "    return {'T' : solT[1:,:], \n",
    "            'Ta': solTa[1:4,:],\n",
    "            'Tab': solTab[1:4,:]}"
   ]
  },
  {
   "cell_type": "code",
   "execution_count": 301,
   "metadata": {},
   "outputs": [],
   "source": [
    "std_range_cm = np.arange(0,6)\n",
    "std_range = std_range_cm / (c*100)\n",
    "estimated_parameters = {scale:run_simulation_one(mp_pos, ls_pos, scale, c) \n",
    "                        for scale in std_range}\n",
    "results = get_error_magnitude(estimated_parameters, mp_pos)\n",
    "\n",
    "# Flattening results dictionary for multiindex parsing on pandas\n",
    "results = {(method, scale) : value   \n",
    "            for scale, res in results.items()\n",
    "            for method, value in res.items()}\n",
    "results = pd.DataFrame(results)"
   ]
  },
  {
   "cell_type": "code",
   "execution_count": 302,
   "metadata": {},
   "outputs": [
    {
     "data": {
      "image/png": "[encoded data removed]",
      "text/plain": [
       "<Figure size 432x288 with 1 Axes>"
      ]
     },
     "metadata": {
      "needs_background": "light"
     },
     "output_type": "display_data"
    }
   ],
   "source": [
    "import seaborn as sns\n",
    "results.columns = results.columns.set_names(['Method', 'Noise'], level=[0,1])\n",
    "mean_errors = results.mean()\n",
    "mean_errors = mean_errors.reset_index()\n",
    "mean_errors.columns = ['Method', 'Noise', 'Mean Error']\n",
    "mean_errors['Noise'] = 100 * c *mean_errors['Noise'] \n",
    "mean_errors['Mean Error'] = 100 * mean_errors['Mean Error'] \n",
    "fig, ax = plt.subplots()\n",
    "\n",
    "markers = ['', 'o', 'x', '+']\n",
    "linestyles=['--', '-', '-.']\n",
    "colors=['b', 'r', 'y', 'g']\n",
    "for i, (g_name, g) in enumerate(mean_errors.groupby('Method')):\n",
    "    ax.plot(g['Noise'], g['Mean Error'], label=g_name, \n",
    "            linestyle=linestyles[i], marker=markers[i], color=colors[i])\n",
    "ax.set_ylabel('Mean Error (cm)')\n",
    "ax.set_xlabel('Noise Standard Deviation (cm)')\n",
    "ax.set_title('Simulação I', fontsize=15)\n",
    "plt.legend();"
   ]
  },
  {
   "cell_type": "code",
   "execution_count": null,
   "metadata": {},
   "outputs": [],
   "source": []
  }
 ],
 "metadata": {
  "kernelspec": {
   "display_name": "radix",
   "language": "python",
   "name": "radix"
  },
  "language_info": {
   "codemirror_mode": {
    "name": "ipython",
    "version": 3
   },
   "file_extension": ".py",
   "mimetype": "text/x-python",
   "name": "python",
   "nbconvert_exporter": "python",
   "pygments_lexer": "ipython3",
   "version": "3.5.2"
  }
 },
 "nbformat": 4,
 "nbformat_minor": 2
}
